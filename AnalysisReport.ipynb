{
 "cells": [
  {
   "cell_type": "markdown",
   "metadata": {},
   "source": [
    "### Importing Essential Libraries"
   ]
  },
  {
   "cell_type": "code",
   "execution_count": 1,
   "metadata": {},
   "outputs": [],
   "source": [
    "from sklearn.model_selection import train_test_split\n",
    "from sklearn.ensemble import RandomForestRegressor\n",
    "from sklearn.preprocessing import OneHotEncoder\n",
    "from sklearn.linear_model import LinearRegression\n",
    "from sklearn.metrics import mean_squared_error\n",
    "from sklearn.model_selection import GridSearchCV\n",
    "import matplotlib.pyplot as plt\n",
    "import numpy as np\n",
    "import pandas as pd\n",
    "import seaborn as sb\n",
    "import time as tm\n",
    "\n",
    "sb.set() # sets default Seaborn style for graphs"
   ]
  },
  {
   "cell_type": "markdown",
   "metadata": {},
   "source": [
    "### Importing and Exploring the HDB Resale Flat Dataset"
   ]
  },
  {
   "cell_type": "markdown",
   "metadata": {},
   "source": [
    "#### Reading the Dataset"
   ]
  },
  {
   "cell_type": "code",
   "execution_count": 2,
   "metadata": {},
   "outputs": [],
   "source": [
    "dataobj = pd.read_csv(\"resale-flat-prices/resale-flat-prices-based-on-registration-date-from-jan-2017-onwards.csv\")\n",
    "housingDF = pd.DataFrame(dataobj)"
   ]
  },
  {
   "cell_type": "markdown",
   "metadata": {},
   "source": [
    "#### Exploring the Dataset\n",
    "\n",
    "We first take a brief glance of how each entry in this dataset is like:"
   ]
  },
  {
   "cell_type": "code",
   "execution_count": 3,
   "metadata": {},
   "outputs": [
    {
     "data": {
      "text/html": [
       "<div>\n",
       "<style scoped>\n",
       "    .dataframe tbody tr th:only-of-type {\n",
       "        vertical-align: middle;\n",
       "    }\n",
       "\n",
       "    .dataframe tbody tr th {\n",
       "        vertical-align: top;\n",
       "    }\n",
       "\n",
       "    .dataframe thead th {\n",
       "        text-align: right;\n",
       "    }\n",
       "</style>\n",
       "<table border=\"1\" class=\"dataframe\">\n",
       "  <thead>\n",
       "    <tr style=\"text-align: right;\">\n",
       "      <th></th>\n",
       "      <th>month</th>\n",
       "      <th>town</th>\n",
       "      <th>flat_type</th>\n",
       "      <th>block</th>\n",
       "      <th>street_name</th>\n",
       "      <th>storey_range</th>\n",
       "      <th>floor_area_sqm</th>\n",
       "      <th>flat_model</th>\n",
       "      <th>lease_commence_date</th>\n",
       "      <th>remaining_lease</th>\n",
       "      <th>resale_price</th>\n",
       "    </tr>\n",
       "  </thead>\n",
       "  <tbody>\n",
       "    <tr>\n",
       "      <th>0</th>\n",
       "      <td>2017-01</td>\n",
       "      <td>ANG MO KIO</td>\n",
       "      <td>2 ROOM</td>\n",
       "      <td>406</td>\n",
       "      <td>ANG MO KIO AVE 10</td>\n",
       "      <td>10 TO 12</td>\n",
       "      <td>44.0</td>\n",
       "      <td>Improved</td>\n",
       "      <td>1979</td>\n",
       "      <td>61 years 04 months</td>\n",
       "      <td>232000.0</td>\n",
       "    </tr>\n",
       "    <tr>\n",
       "      <th>1</th>\n",
       "      <td>2017-01</td>\n",
       "      <td>ANG MO KIO</td>\n",
       "      <td>3 ROOM</td>\n",
       "      <td>108</td>\n",
       "      <td>ANG MO KIO AVE 4</td>\n",
       "      <td>01 TO 03</td>\n",
       "      <td>67.0</td>\n",
       "      <td>New Generation</td>\n",
       "      <td>1978</td>\n",
       "      <td>60 years 07 months</td>\n",
       "      <td>250000.0</td>\n",
       "    </tr>\n",
       "    <tr>\n",
       "      <th>2</th>\n",
       "      <td>2017-01</td>\n",
       "      <td>ANG MO KIO</td>\n",
       "      <td>3 ROOM</td>\n",
       "      <td>602</td>\n",
       "      <td>ANG MO KIO AVE 5</td>\n",
       "      <td>01 TO 03</td>\n",
       "      <td>67.0</td>\n",
       "      <td>New Generation</td>\n",
       "      <td>1980</td>\n",
       "      <td>62 years 05 months</td>\n",
       "      <td>262000.0</td>\n",
       "    </tr>\n",
       "    <tr>\n",
       "      <th>3</th>\n",
       "      <td>2017-01</td>\n",
       "      <td>ANG MO KIO</td>\n",
       "      <td>3 ROOM</td>\n",
       "      <td>465</td>\n",
       "      <td>ANG MO KIO AVE 10</td>\n",
       "      <td>04 TO 06</td>\n",
       "      <td>68.0</td>\n",
       "      <td>New Generation</td>\n",
       "      <td>1980</td>\n",
       "      <td>62 years 01 month</td>\n",
       "      <td>265000.0</td>\n",
       "    </tr>\n",
       "    <tr>\n",
       "      <th>4</th>\n",
       "      <td>2017-01</td>\n",
       "      <td>ANG MO KIO</td>\n",
       "      <td>3 ROOM</td>\n",
       "      <td>601</td>\n",
       "      <td>ANG MO KIO AVE 5</td>\n",
       "      <td>01 TO 03</td>\n",
       "      <td>67.0</td>\n",
       "      <td>New Generation</td>\n",
       "      <td>1980</td>\n",
       "      <td>62 years 05 months</td>\n",
       "      <td>265000.0</td>\n",
       "    </tr>\n",
       "  </tbody>\n",
       "</table>\n",
       "</div>"
      ],
      "text/plain": [
       "     month        town flat_type block        street_name storey_range  \\\n",
       "0  2017-01  ANG MO KIO    2 ROOM   406  ANG MO KIO AVE 10     10 TO 12   \n",
       "1  2017-01  ANG MO KIO    3 ROOM   108   ANG MO KIO AVE 4     01 TO 03   \n",
       "2  2017-01  ANG MO KIO    3 ROOM   602   ANG MO KIO AVE 5     01 TO 03   \n",
       "3  2017-01  ANG MO KIO    3 ROOM   465  ANG MO KIO AVE 10     04 TO 06   \n",
       "4  2017-01  ANG MO KIO    3 ROOM   601   ANG MO KIO AVE 5     01 TO 03   \n",
       "\n",
       "   floor_area_sqm      flat_model  lease_commence_date     remaining_lease  \\\n",
       "0            44.0        Improved                 1979  61 years 04 months   \n",
       "1            67.0  New Generation                 1978  60 years 07 months   \n",
       "2            67.0  New Generation                 1980  62 years 05 months   \n",
       "3            68.0  New Generation                 1980   62 years 01 month   \n",
       "4            67.0  New Generation                 1980  62 years 05 months   \n",
       "\n",
       "   resale_price  \n",
       "0      232000.0  \n",
       "1      250000.0  \n",
       "2      262000.0  \n",
       "3      265000.0  \n",
       "4      265000.0  "
      ]
     },
     "execution_count": 3,
     "metadata": {},
     "output_type": "execute_result"
    }
   ],
   "source": [
    "housingDF.head(5)"
   ]
  },
  {
   "cell_type": "code",
   "execution_count": 4,
   "metadata": {},
   "outputs": [
    {
     "data": {
      "text/html": [
       "<div>\n",
       "<style scoped>\n",
       "    .dataframe tbody tr th:only-of-type {\n",
       "        vertical-align: middle;\n",
       "    }\n",
       "\n",
       "    .dataframe tbody tr th {\n",
       "        vertical-align: top;\n",
       "    }\n",
       "\n",
       "    .dataframe thead th {\n",
       "        text-align: right;\n",
       "    }\n",
       "</style>\n",
       "<table border=\"1\" class=\"dataframe\">\n",
       "  <thead>\n",
       "    <tr style=\"text-align: right;\">\n",
       "      <th></th>\n",
       "      <th>month</th>\n",
       "      <th>town</th>\n",
       "      <th>flat_type</th>\n",
       "      <th>block</th>\n",
       "      <th>street_name</th>\n",
       "      <th>storey_range</th>\n",
       "      <th>floor_area_sqm</th>\n",
       "      <th>flat_model</th>\n",
       "      <th>lease_commence_date</th>\n",
       "      <th>remaining_lease</th>\n",
       "      <th>resale_price</th>\n",
       "    </tr>\n",
       "  </thead>\n",
       "  <tbody>\n",
       "    <tr>\n",
       "      <th>70098</th>\n",
       "      <td>2020-03</td>\n",
       "      <td>YISHUN</td>\n",
       "      <td>EXECUTIVE</td>\n",
       "      <td>364</td>\n",
       "      <td>YISHUN RING RD</td>\n",
       "      <td>01 TO 03</td>\n",
       "      <td>146.0</td>\n",
       "      <td>Maisonette</td>\n",
       "      <td>1988</td>\n",
       "      <td>67 years 01 month</td>\n",
       "      <td>540000.0</td>\n",
       "    </tr>\n",
       "    <tr>\n",
       "      <th>70099</th>\n",
       "      <td>2020-03</td>\n",
       "      <td>YISHUN</td>\n",
       "      <td>EXECUTIVE</td>\n",
       "      <td>359</td>\n",
       "      <td>YISHUN RING RD</td>\n",
       "      <td>10 TO 12</td>\n",
       "      <td>146.0</td>\n",
       "      <td>Maisonette</td>\n",
       "      <td>1988</td>\n",
       "      <td>67 years 04 months</td>\n",
       "      <td>578888.0</td>\n",
       "    </tr>\n",
       "    <tr>\n",
       "      <th>70100</th>\n",
       "      <td>2020-03</td>\n",
       "      <td>YISHUN</td>\n",
       "      <td>EXECUTIVE</td>\n",
       "      <td>292</td>\n",
       "      <td>YISHUN ST 22</td>\n",
       "      <td>01 TO 03</td>\n",
       "      <td>165.0</td>\n",
       "      <td>Apartment</td>\n",
       "      <td>1992</td>\n",
       "      <td>71 years 03 months</td>\n",
       "      <td>660000.0</td>\n",
       "    </tr>\n",
       "    <tr>\n",
       "      <th>70101</th>\n",
       "      <td>2020-03</td>\n",
       "      <td>YISHUN</td>\n",
       "      <td>EXECUTIVE</td>\n",
       "      <td>611</td>\n",
       "      <td>YISHUN ST 61</td>\n",
       "      <td>04 TO 06</td>\n",
       "      <td>146.0</td>\n",
       "      <td>Maisonette</td>\n",
       "      <td>1987</td>\n",
       "      <td>66 years 08 months</td>\n",
       "      <td>620000.0</td>\n",
       "    </tr>\n",
       "    <tr>\n",
       "      <th>70102</th>\n",
       "      <td>2020-03</td>\n",
       "      <td>YISHUN</td>\n",
       "      <td>EXECUTIVE</td>\n",
       "      <td>827</td>\n",
       "      <td>YISHUN ST 81</td>\n",
       "      <td>01 TO 03</td>\n",
       "      <td>145.0</td>\n",
       "      <td>Maisonette</td>\n",
       "      <td>1987</td>\n",
       "      <td>66 years 07 months</td>\n",
       "      <td>660000.0</td>\n",
       "    </tr>\n",
       "  </tbody>\n",
       "</table>\n",
       "</div>"
      ],
      "text/plain": [
       "         month    town  flat_type block     street_name storey_range  \\\n",
       "70098  2020-03  YISHUN  EXECUTIVE   364  YISHUN RING RD     01 TO 03   \n",
       "70099  2020-03  YISHUN  EXECUTIVE   359  YISHUN RING RD     10 TO 12   \n",
       "70100  2020-03  YISHUN  EXECUTIVE   292    YISHUN ST 22     01 TO 03   \n",
       "70101  2020-03  YISHUN  EXECUTIVE   611    YISHUN ST 61     04 TO 06   \n",
       "70102  2020-03  YISHUN  EXECUTIVE   827    YISHUN ST 81     01 TO 03   \n",
       "\n",
       "       floor_area_sqm  flat_model  lease_commence_date     remaining_lease  \\\n",
       "70098           146.0  Maisonette                 1988   67 years 01 month   \n",
       "70099           146.0  Maisonette                 1988  67 years 04 months   \n",
       "70100           165.0   Apartment                 1992  71 years 03 months   \n",
       "70101           146.0  Maisonette                 1987  66 years 08 months   \n",
       "70102           145.0  Maisonette                 1987  66 years 07 months   \n",
       "\n",
       "       resale_price  \n",
       "70098      540000.0  \n",
       "70099      578888.0  \n",
       "70100      660000.0  \n",
       "70101      620000.0  \n",
       "70102      660000.0  "
      ]
     },
     "execution_count": 4,
     "metadata": {},
     "output_type": "execute_result"
    }
   ],
   "source": [
    "housingDF.tail(5)"
   ]
  },
  {
   "cell_type": "markdown",
   "metadata": {},
   "source": [
    "Next, we can check the data types of each column. We should be mindful about some columns such as \"Block\", which could either have an integer data type or an object data type (in the form of a string). "
   ]
  },
  {
   "cell_type": "code",
   "execution_count": 5,
   "metadata": {},
   "outputs": [
    {
     "data": {
      "text/plain": [
       "month                   object\n",
       "town                    object\n",
       "flat_type               object\n",
       "block                   object\n",
       "street_name             object\n",
       "storey_range            object\n",
       "floor_area_sqm         float64\n",
       "flat_model              object\n",
       "lease_commence_date      int64\n",
       "remaining_lease         object\n",
       "resale_price           float64\n",
       "dtype: object"
      ]
     },
     "execution_count": 5,
     "metadata": {},
     "output_type": "execute_result"
    }
   ],
   "source": [
    "housingDF.dtypes"
   ]
  },
  {
   "cell_type": "code",
   "execution_count": 6,
   "metadata": {},
   "outputs": [
    {
     "name": "stdout",
     "output_type": "stream",
     "text": [
      "count    2.050900e+04\n",
      "mean     4.438885e+05\n",
      "std      1.491483e+05\n",
      "min      1.750000e+05\n",
      "25%      3.380000e+05\n",
      "50%      4.100000e+05\n",
      "75%      5.100000e+05\n",
      "max      1.180000e+06\n",
      "Name: resale_price, dtype: float64 \n",
      "\n",
      "count    2.187500e+04\n",
      "mean     4.406178e+05\n",
      "std      1.570186e+05\n",
      "min      1.600000e+05\n",
      "25%      3.280000e+05\n",
      "50%      4.070000e+05\n",
      "75%      5.150000e+05\n",
      "max      1.185000e+06\n",
      "Name: resale_price, dtype: float64 \n",
      "\n",
      "count    2.218800e+04\n",
      "mean     4.321241e+05\n",
      "std      1.539773e+05\n",
      "min      1.500000e+05\n",
      "25%      3.200000e+05\n",
      "50%      4.000000e+05\n",
      "75%      5.100000e+05\n",
      "max      1.205000e+06\n",
      "Name: resale_price, dtype: float64 \n",
      "\n",
      "count    5.531000e+03\n",
      "mean     4.344511e+05\n",
      "std      1.501389e+05\n",
      "min      1.400000e+05\n",
      "25%      3.260000e+05\n",
      "50%      4.080000e+05\n",
      "75%      5.150000e+05\n",
      "max      1.232000e+06\n",
      "Name: resale_price, dtype: float64 \n",
      "\n"
     ]
    }
   ],
   "source": [
    "housingDF_year = housingDF.copy()\n",
    "\n",
    "housingDF_year.rename(columns={'month' : 'year'}, inplace=True)\n",
    "housingDF_year['year'] = housingDF_year['year'].str.slice(stop=4)\n",
    "\n",
    "housingDF_year['year'].value_counts()\n",
    "\n",
    "years = ['2017', '2018', '2019', '2020']\n",
    "\n",
    "for year in years:\n",
    "    housing_temp = housingDF_year[housingDF_year['year'] == year]\n",
    "    print(housing_temp['resale_price'].describe(), \"\\n\")"
   ]
  },
  {
   "cell_type": "markdown",
   "metadata": {},
   "source": [
    "There doesn't seem to be much variation in the HDB resale flat prices from year to year. However, in order to ensure that the year isn't a confounder, we should just consider the most recent year, 2019:"
   ]
  },
  {
   "cell_type": "code",
   "execution_count": 7,
   "metadata": {},
   "outputs": [
    {
     "data": {
      "text/html": [
       "<div>\n",
       "<style scoped>\n",
       "    .dataframe tbody tr th:only-of-type {\n",
       "        vertical-align: middle;\n",
       "    }\n",
       "\n",
       "    .dataframe tbody tr th {\n",
       "        vertical-align: top;\n",
       "    }\n",
       "\n",
       "    .dataframe thead th {\n",
       "        text-align: right;\n",
       "    }\n",
       "</style>\n",
       "<table border=\"1\" class=\"dataframe\">\n",
       "  <thead>\n",
       "    <tr style=\"text-align: right;\">\n",
       "      <th></th>\n",
       "      <th>year</th>\n",
       "      <th>town</th>\n",
       "      <th>flat_type</th>\n",
       "      <th>block</th>\n",
       "      <th>street_name</th>\n",
       "      <th>storey_range</th>\n",
       "      <th>floor_area_sqm</th>\n",
       "      <th>flat_model</th>\n",
       "      <th>lease_commence_date</th>\n",
       "      <th>remaining_lease</th>\n",
       "      <th>resale_price</th>\n",
       "    </tr>\n",
       "  </thead>\n",
       "  <tbody>\n",
       "    <tr>\n",
       "      <th>42384</th>\n",
       "      <td>2019</td>\n",
       "      <td>ANG MO KIO</td>\n",
       "      <td>3 ROOM</td>\n",
       "      <td>330</td>\n",
       "      <td>ANG MO KIO AVE 1</td>\n",
       "      <td>01 TO 03</td>\n",
       "      <td>68.0</td>\n",
       "      <td>New Generation</td>\n",
       "      <td>1981</td>\n",
       "      <td>61 years 01 month</td>\n",
       "      <td>270000.0</td>\n",
       "    </tr>\n",
       "    <tr>\n",
       "      <th>42385</th>\n",
       "      <td>2019</td>\n",
       "      <td>ANG MO KIO</td>\n",
       "      <td>3 ROOM</td>\n",
       "      <td>215</td>\n",
       "      <td>ANG MO KIO AVE 1</td>\n",
       "      <td>04 TO 06</td>\n",
       "      <td>73.0</td>\n",
       "      <td>New Generation</td>\n",
       "      <td>1976</td>\n",
       "      <td>56 years 04 months</td>\n",
       "      <td>295000.0</td>\n",
       "    </tr>\n",
       "    <tr>\n",
       "      <th>42386</th>\n",
       "      <td>2019</td>\n",
       "      <td>ANG MO KIO</td>\n",
       "      <td>3 ROOM</td>\n",
       "      <td>225</td>\n",
       "      <td>ANG MO KIO AVE 1</td>\n",
       "      <td>07 TO 09</td>\n",
       "      <td>67.0</td>\n",
       "      <td>New Generation</td>\n",
       "      <td>1978</td>\n",
       "      <td>58 years 01 month</td>\n",
       "      <td>270000.0</td>\n",
       "    </tr>\n",
       "    <tr>\n",
       "      <th>42387</th>\n",
       "      <td>2019</td>\n",
       "      <td>ANG MO KIO</td>\n",
       "      <td>3 ROOM</td>\n",
       "      <td>225</td>\n",
       "      <td>ANG MO KIO AVE 1</td>\n",
       "      <td>01 TO 03</td>\n",
       "      <td>67.0</td>\n",
       "      <td>New Generation</td>\n",
       "      <td>1978</td>\n",
       "      <td>58 years</td>\n",
       "      <td>230000.0</td>\n",
       "    </tr>\n",
       "    <tr>\n",
       "      <th>42388</th>\n",
       "      <td>2019</td>\n",
       "      <td>ANG MO KIO</td>\n",
       "      <td>3 ROOM</td>\n",
       "      <td>333</td>\n",
       "      <td>ANG MO KIO AVE 1</td>\n",
       "      <td>01 TO 03</td>\n",
       "      <td>68.0</td>\n",
       "      <td>New Generation</td>\n",
       "      <td>1981</td>\n",
       "      <td>61 years</td>\n",
       "      <td>262500.0</td>\n",
       "    </tr>\n",
       "  </tbody>\n",
       "</table>\n",
       "</div>"
      ],
      "text/plain": [
       "       year        town flat_type block       street_name storey_range  \\\n",
       "42384  2019  ANG MO KIO    3 ROOM   330  ANG MO KIO AVE 1     01 TO 03   \n",
       "42385  2019  ANG MO KIO    3 ROOM   215  ANG MO KIO AVE 1     04 TO 06   \n",
       "42386  2019  ANG MO KIO    3 ROOM   225  ANG MO KIO AVE 1     07 TO 09   \n",
       "42387  2019  ANG MO KIO    3 ROOM   225  ANG MO KIO AVE 1     01 TO 03   \n",
       "42388  2019  ANG MO KIO    3 ROOM   333  ANG MO KIO AVE 1     01 TO 03   \n",
       "\n",
       "       floor_area_sqm      flat_model  lease_commence_date  \\\n",
       "42384            68.0  New Generation                 1981   \n",
       "42385            73.0  New Generation                 1976   \n",
       "42386            67.0  New Generation                 1978   \n",
       "42387            67.0  New Generation                 1978   \n",
       "42388            68.0  New Generation                 1981   \n",
       "\n",
       "          remaining_lease  resale_price  \n",
       "42384   61 years 01 month      270000.0  \n",
       "42385  56 years 04 months      295000.0  \n",
       "42386   58 years 01 month      270000.0  \n",
       "42387            58 years      230000.0  \n",
       "42388            61 years      262500.0  "
      ]
     },
     "execution_count": 7,
     "metadata": {},
     "output_type": "execute_result"
    }
   ],
   "source": [
    "housing_2019 = housingDF_year[housingDF_year['year'] == '2019']\n",
    "housing_2019.head(5)"
   ]
  },
  {
   "cell_type": "markdown",
   "metadata": {},
   "source": [
    "### Data Cleaning\n",
    "\n",
    "Let's check if there are any form of redundancies by repeating the `street_name` when the `town` is already mentioned.\n",
    "\n",
    "For instance, if every pair of `town` and `street_name` values are such that the `street_name` corresponding to the `town` are very similar (like the below example), we can consider dropping the `town` variable. \n",
    "\n",
    "| Town | Street Name | \n",
    "| ---- | ----------  |\n",
    "| Yishun | Yishun Ring Rd |\n",
    "| Yishun | Yishun St 22 | \n",
    "| Ang Mo Kio | Ang Mo Kio Ave 5 | \n",
    "| Ang Mo Kio | Ang Mo Kio Ave 10 | "
   ]
  },
  {
   "cell_type": "code",
   "execution_count": 8,
   "metadata": {},
   "outputs": [
    {
     "name": "stdout",
     "output_type": "stream",
     "text": [
      "SENGKANG           1795\n",
      "WOODLANDS          1794\n",
      "YISHUN             1790\n",
      "JURONG WEST        1705\n",
      "TAMPINES           1413\n",
      "PUNGGOL            1160\n",
      "BEDOK              1147\n",
      "HOUGANG             967\n",
      "ANG MO KIO          954\n",
      "BUKIT PANJANG       937\n",
      "CHOA CHU KANG       923\n",
      "BUKIT MERAH         880\n",
      "BUKIT BATOK         874\n",
      "TOA PAYOH           706\n",
      "SEMBAWANG           643\n",
      "KALLANG/WHAMPOA     600\n",
      "PASIR RIS           585\n",
      "QUEENSTOWN          563\n",
      "GEYLANG             536\n",
      "JURONG EAST         500\n",
      "CLEMENTI            479\n",
      "SERANGOON           437\n",
      "BISHAN              417\n",
      "CENTRAL AREA        187\n",
      "MARINE PARADE       125\n",
      "BUKIT TIMAH          71\n",
      "Name: town, dtype: int64 \n",
      "\n",
      "YISHUN RING RD        336\n",
      "YISHUN AVE 11         316\n",
      "SEGAR RD              290\n",
      "BEDOK RESERVOIR RD    231\n",
      "ANG MO KIO AVE 3      222\n",
      "                     ... \n",
      "ANG MO KIO ST 11        1\n",
      "JLN BERSEH              1\n",
      "KIM PONG RD             1\n",
      "PASIR RIS ST 41         1\n",
      "BT MERAH LANE 1         1\n",
      "Name: street_name, Length: 535, dtype: int64\n"
     ]
    }
   ],
   "source": [
    "print(housing_2019['town'].value_counts(), \"\\n\")\n",
    "print(housing_2019['street_name'].value_counts())"
   ]
  },
  {
   "cell_type": "markdown",
   "metadata": {},
   "source": [
    "From the above results, there are some `street_names` that are less obvious in pointing out their corresponding `town`. Therefore, we should not drop the `town` column from the dataset. \n",
    "\n",
    "Let's check if there are any missing values in the dataset: "
   ]
  },
  {
   "cell_type": "code",
   "execution_count": 9,
   "metadata": {},
   "outputs": [
    {
     "data": {
      "text/plain": [
       "year                   0\n",
       "town                   0\n",
       "flat_type              0\n",
       "block                  0\n",
       "street_name            0\n",
       "storey_range           0\n",
       "floor_area_sqm         0\n",
       "flat_model             0\n",
       "lease_commence_date    0\n",
       "remaining_lease        0\n",
       "resale_price           0\n",
       "dtype: int64"
      ]
     },
     "execution_count": 9,
     "metadata": {},
     "output_type": "execute_result"
    }
   ],
   "source": [
    "housing_2019.isnull().sum()"
   ]
  },
  {
   "cell_type": "markdown",
   "metadata": {},
   "source": [
    "We observe that many of the columns in this dataset are categorical. Some models (such as linear models) require numerical inputs, therefore there is the need to create new columns such that the values are substituted with numerical ones."
   ]
  },
  {
   "cell_type": "code",
   "execution_count": 10,
   "metadata": {},
   "outputs": [
    {
     "name": "stdout",
     "output_type": "stream",
     "text": [
      "Total one hot encoded columns :\n",
      "1\n",
      "26\n",
      "7\n",
      "2252\n",
      "535\n",
      "17\n",
      "147\n",
      "19\n",
      "51\n",
      "601\n",
      "1443\n",
      "Size :  (22188, 11)\n"
     ]
    }
   ],
   "source": [
    "print(\"Total one hot encoded columns :\") # check how many more columns have to be created for each column via one-hot encoding\n",
    "for x in housing_2019.columns:\n",
    "    print(housing_2019[x].nunique())\n",
    "print(\"Size : \", housing_2019.shape)"
   ]
  },
  {
   "cell_type": "markdown",
   "metadata": {},
   "source": [
    "This seems like an awful lot of columns to one-hot encode. We can definitely do further data cleaning in order to allow both the results to arrive faster and to also get rid of noisy data which might potentially mess up our predictions.\n",
    "\n",
    "One particular column which we might not need for the models we are implementing on our case would be the `block` column. This is because we are not going to get involved with geographic data in this case, which is not applicable in some models such as linear models, so I would have a spare dataset without the `block` column.\n",
    "\n",
    "In addition, since we have the `month` column (which actually displays the year and month of sale price), as well as the `lease_commence_date` (lease commencement date) and the `remaining_lease` are highly correlated to one another (since subtracting the `lease_commence_date` from `month` would give us the `remaining_lease` column, to simplify things, we could consider dropping the former two columns as well."
   ]
  },
  {
   "cell_type": "markdown",
   "metadata": {},
   "source": [
    "### Implementing the models\n",
    "\n",
    "#### Random Forest"
   ]
  },
  {
   "cell_type": "code",
   "execution_count": 11,
   "metadata": {},
   "outputs": [
    {
     "data": {
      "text/plain": [
       "RandomForestRegressor(bootstrap=True, ccp_alpha=0.0, criterion='mse',\n",
       "                      max_depth=None, max_features='auto', max_leaf_nodes=None,\n",
       "                      max_samples=None, min_impurity_decrease=0.0,\n",
       "                      min_impurity_split=None, min_samples_leaf=1,\n",
       "                      min_samples_split=2, min_weight_fraction_leaf=0.0,\n",
       "                      n_estimators=10, n_jobs=None, oob_score=False,\n",
       "                      random_state=8, verbose=0, warm_start=False)"
      ]
     },
     "execution_count": 11,
     "metadata": {},
     "output_type": "execute_result"
    }
   ],
   "source": [
    "# allvalues = dataobj.values\n",
    "# housingdata = allvalues[:, :]\n",
    "\n",
    "# housingdata_noblock = np.delete(housingdata.copy(), 3, axis=1)\n",
    "# housingdata_mod = np.delete(housingdata.copy(), [0, 3, 9], axis=1)\n",
    "\n",
    "# housingtarget = allvalues[:, -1].astype(\"float\")\n",
    "\n",
    "# encoderobj = OneHotEncoder(sparse = False)\n",
    "# housingdata_mod = encoderobj.fit_transform(housingdata_mod[:15000]).astype(\"float\")\n",
    "# housingtarget = housingtarget[:15000]\n",
    "# xtrain, xtest, ytrain, ytest = train_test_split(housingdata_mod, housingtarget, random_state = 8)\n",
    "# rfrobj = RandomForestRegressor(n_estimators = 10, random_state = 8)\n",
    "# rfrobj.fit(xtrain, ytrain)\n",
    "\n",
    "\n",
    "housing_dummies = pd.get_dummies(housing_2019.loc[:,'year':'remaining_lease'], drop_first=True) # drops the original column after one-hot encoding is done\n",
    "housing_target = housing_2019['resale_price']\n",
    "xtrain, xtest, ytrain, ytest = train_test_split(housing_dummies, housing_target, random_state = 8)\n",
    "\n",
    "encoderobj = OneHotEncoder(sparse = False)\n",
    "housingdata_mod = encoderobj.fit_transform(housing_dummies).astype(\"float\")\n",
    "rfrobj = RandomForestRegressor(n_estimators = 10, random_state = 8)\n",
    "rfrobj.fit(xtrain, ytrain)"
   ]
  },
  {
   "cell_type": "code",
   "execution_count": 17,
   "metadata": {},
   "outputs": [
    {
     "name": "stdout",
     "output_type": "stream",
     "text": [
      "For Random Forest: \n",
      "Training set accuracy: \n",
      "0.9905292335776913\n",
      "Test set accuracy: \n",
      "0.9418610632596535\n"
     ]
    }
   ],
   "source": [
    "print(\"For Random Forest: \")\n",
    "print(\"Training set accuracy: \")\n",
    "print(rfrobj.score(xtrain, ytrain))\n",
    "print(\"Test set accuracy: \")\n",
    "print(rfrobj.score(xtest, ytest))"
   ]
  },
  {
   "cell_type": "markdown",
   "metadata": {},
   "source": [
    "#### Linear Regression Model"
   ]
  },
  {
   "cell_type": "code",
   "execution_count": 13,
   "metadata": {},
   "outputs": [
    {
     "name": "stdout",
     "output_type": "stream",
     "text": [
      "Goodness of Fit of Model \tTrain Dataset\n",
      "Explained Variance (R^2) \t: 0.9609121380799182\n",
      "Mean Squared Error (MSE) \t: 947883468.7271221\n",
      "\n",
      "Goodness of Fit of Model \tTest Dataset\n",
      "Explained Variance (R^2) \t: -2.099540867215019e+17\n",
      "Mean Squared Error (MSE) \t: 4.627497432739637e+27\n",
      "\n"
     ]
    }
   ],
   "source": [
    "linreg = LinearRegression() # create a Linear Regression object \n",
    "\n",
    "linreg.fit(xtrain, ytrain)\n",
    "\n",
    "# Predict Response corresponding to Predictors\n",
    "ytrain_pred = linreg.predict(xtrain)\n",
    "ytest_pred = linreg.predict(xtest)\n",
    "\n",
    "# Check the Goodness of Fit (on Train Data)\n",
    "print(\"Goodness of Fit of Model \\tTrain Dataset\")\n",
    "print(\"Explained Variance (R^2) \\t:\", linreg.score(xtrain, ytrain))\n",
    "print(\"Mean Squared Error (MSE) \\t:\", mean_squared_error(ytrain, ytrain_pred))\n",
    "print()\n",
    "\n",
    "# Check the Goodness of Fit (on Test Data)\n",
    "print(\"Goodness of Fit of Model \\tTest Dataset\")\n",
    "print(\"Explained Variance (R^2) \\t:\", linreg.score(xtest, ytest))\n",
    "print(\"Mean Squared Error (MSE) \\t:\", mean_squared_error(ytest, ytest_pred))\n",
    "print()"
   ]
  },
  {
   "cell_type": "markdown",
   "metadata": {},
   "source": [
    "### The best of the Machine Learning Algorithms\n",
    "#### We will attempt to perform a Gridsearch with inner cross validation in order to find the best parameters for the best estimation model. "
   ]
  },
  {
   "cell_type": "code",
   "execution_count": 28,
   "metadata": {},
   "outputs": [
    {
     "name": "stdout",
     "output_type": "stream",
     "text": [
      "Best parameters: {'max_depth': 5, 'n_estimators': 10}\n",
      "Best cross-validation score: 0.66\n",
      "Training set Accuracy :  0.6510468178869009\n",
      "Test set Accuracy :  0.6363964463435782\n",
      "\n",
      "Running Time :  44.33\n"
     ]
    }
   ],
   "source": [
    "start = tm.time()\n",
    "param_grid = {\"n_estimators\": [5, 10], \"max_depth\": [5]}\n",
    "gridobj = GridSearchCV(RandomForestRegressor(n_jobs = -1, random_state = 8), param_grid, cv = 5)\n",
    "gridobj.fit(xtrain, ytrain)\n",
    "print(\"Best parameters: {}\".format(gridobj.best_params_))\n",
    "print(\"Best cross-validation score: {:.2f}\".format(gridobj.best_score_))\n",
    "print(\"Training set Accuracy : \", gridobj.score(xtrain, ytrain))\n",
    "print(\"Test set Accuracy : \", gridobj.score(xtest, ytest))\n",
    "end = tm.time()\n",
    "print(\"\\nRunning Time : \", round(end-start, 2))"
   ]
  },
  {
   "cell_type": "code",
   "execution_count": null,
   "metadata": {},
   "outputs": [],
   "source": []
  }
 ],
 "metadata": {
  "kernelspec": {
   "display_name": "Python 3",
   "language": "python",
   "name": "python3"
  },
  "language_info": {
   "codemirror_mode": {
    "name": "ipython",
    "version": 3
   },
   "file_extension": ".py",
   "mimetype": "text/x-python",
   "name": "python",
   "nbconvert_exporter": "python",
   "pygments_lexer": "ipython3",
   "version": "3.7.6"
  }
 },
 "nbformat": 4,
 "nbformat_minor": 4
}
